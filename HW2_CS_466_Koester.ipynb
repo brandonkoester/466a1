{
  "nbformat": 4,
  "nbformat_minor": 0,
  "metadata": {
    "kernelspec": {
      "display_name": "Python 2",
      "language": "python",
      "name": "python2"
    },
    "language_info": {
      "codemirror_mode": {
        "name": "ipython",
        "version": 3
      },
      "file_extension": ".py",
      "mimetype": "text/x-python",
      "name": "python",
      "nbconvert_exporter": "python",
      "pygments_lexer": "ipython3",
      "version": "3.8.5"
    },
    "colab": {
      "provenance": [],
      "include_colab_link": true
    }
  },
  "cells": [
    {
      "cell_type": "markdown",
      "metadata": {
        "id": "view-in-github",
        "colab_type": "text"
      },
      "source": [
        "<a href=\"https://colab.research.google.com/github/brandonkoester/466a1/blob/main/HW2_CS_466_Koester.ipynb\" target=\"_parent\"><img src=\"https://colab.research.google.com/assets/colab-badge.svg\" alt=\"Open In Colab\"/></a>"
      ]
    },
    {
      "cell_type": "markdown",
      "metadata": {
        "id": "lp7tRZfFOZg6"
      },
      "source": [
        "# NOTE\n",
        "\n",
        "- Make a copy of this template before you start editing, and exported the file as a ipynb where you are done.\n",
        "\n",
        "- Before you turn this problem in, make sure everything runs as expected. First, **restart the kernel** (in the menubar, select Runtime$\\rightarrow$Factory reset runtime) and then **run all cells** (in the menubar, select Runtime$\\rightarrow$Run all).\n",
        "\n",
        "- Make sure you fill in any place that says `YOUR CODE HERE` or \"YOUR ANSWER HERE\". Fill out your name below in the `NAME` variable, leave the `COLLABORATORS` variable empty."
      ]
    },
    {
      "cell_type": "code",
      "metadata": {
        "id": "t4fnV9HOOZg8"
      },
      "source": [
        "NAME = \"Brandon Koester\""
      ],
      "execution_count": 1,
      "outputs": []
    },
    {
      "cell_type": "markdown",
      "metadata": {
        "id": "GuYaB4NSOZhA"
      },
      "source": [
        "---"
      ]
    },
    {
      "cell_type": "markdown",
      "metadata": {
        "deletable": false,
        "editable": false,
        "nbgrader": {
          "cell_type": "markdown",
          "checksum": "3a1277b075c7688dff6778536b4e26b0",
          "grade": false,
          "grade_id": "cell-60e504978cd526fa",
          "locked": true,
          "schema_version": 3,
          "solution": false,
          "task": false
        },
        "id": "tS4jWwnkfpDf"
      },
      "source": [
        "Setup required modules."
      ]
    },
    {
      "cell_type": "code",
      "metadata": {
        "deletable": false,
        "editable": false,
        "nbgrader": {
          "cell_type": "code",
          "checksum": "a44e2060f566753b2c3954c68efa18a4",
          "grade": false,
          "grade_id": "cell-edca78e7d51c3346",
          "locked": true,
          "schema_version": 3,
          "solution": false,
          "task": false
        },
        "id": "9TUFNMnxfpDf",
        "outputId": "53a20c6d-1ffb-4fd7-de8c-ed15b0c8b11d",
        "colab": {
          "base_uri": "https://localhost:8080/"
        }
      },
      "source": [
        "! pip install nose\n",
        "! pip install networkx"
      ],
      "execution_count": 2,
      "outputs": [
        {
          "output_type": "stream",
          "name": "stdout",
          "text": [
            "Collecting nose\n",
            "  Downloading nose-1.3.7-py3-none-any.whl.metadata (1.7 kB)\n",
            "Downloading nose-1.3.7-py3-none-any.whl (154 kB)\n",
            "\u001b[2K   \u001b[90m━━━━━━━━━━━━━━━━━━━━━━━━━━━━━━━━━━━━━━━━\u001b[0m \u001b[32m154.7/154.7 kB\u001b[0m \u001b[31m2.7 MB/s\u001b[0m eta \u001b[36m0:00:00\u001b[0m\n",
            "\u001b[?25hInstalling collected packages: nose\n",
            "Successfully installed nose-1.3.7\n",
            "Requirement already satisfied: networkx in /usr/local/lib/python3.10/dist-packages (3.3)\n"
          ]
        }
      ]
    },
    {
      "cell_type": "code",
      "metadata": {
        "deletable": false,
        "editable": false,
        "nbgrader": {
          "cell_type": "code",
          "checksum": "8c37003e7cbb2cd19628bf7645df217d",
          "grade": false,
          "grade_id": "cell-c80599fec3a8ff55",
          "locked": true,
          "schema_version": 3,
          "solution": false,
          "task": false
        },
        "id": "QGR2gi8JfpDg"
      },
      "source": [
        "import nose.tools as nt\n",
        "\n",
        "def assert_dict_almost_equal(dict_1, dict_2):\n",
        "    nt.assert_equal(set(dict_1.keys()), set(dict_2.keys()))\n",
        "    for k in dict_1.keys():\n",
        "        for v_1, v_2 in zip(dict_1[k], dict_2[k]):\n",
        "            nt.assert_almost_equal(v_1, v_2)"
      ],
      "execution_count": 3,
      "outputs": []
    },
    {
      "cell_type": "markdown",
      "metadata": {
        "deletable": false,
        "editable": false,
        "nbgrader": {
          "cell_type": "markdown",
          "checksum": "a61cbfe0aa7e73f9ba7eef27fc0c6315",
          "grade": false,
          "grade_id": "cell-b39dfbdacddb8710",
          "locked": true,
          "schema_version": 3,
          "solution": false
        },
        "id": "BV2e3uXLfpDg"
      },
      "source": [
        "# Multiple Sequence Alignment\n",
        "\n",
        "We saw in lecture that a multiple sequence alignment M between $k$ strings $\\mathbf{v_1, ..., v_k}$ is a $k \\times q$ matrix, where $q=\\{\\max\\{|\\mathbf{v_i}|:i\\in [k]\\},...,\\Sigma_{i=1}^{k}|\\mathbf{v_i}|\\}$ such that the $i^{th}$ row contains the characters of $\\mathbf{v_i}$ in order with spaces '-' interspersed and no column cntains $k$ spaces.\n",
        "\n",
        "In this assignment, we will implement progressive multiple sequence alignment using the greedy algorithm. We will need to implement several parts:\n",
        "* Computing the profile representation of a multiple sequence alignment.\n",
        "* Aligning a single sequence to a profile\n",
        "* Aligning a profile to another profile\n",
        "* The greedy progressive alignment algoirthm"
      ]
    },
    {
      "cell_type": "markdown",
      "metadata": {
        "deletable": false,
        "editable": false,
        "nbgrader": {
          "cell_type": "markdown",
          "checksum": "e8076dcbbeebc91c5d577e419138871f",
          "grade": false,
          "grade_id": "cell-ba33d8762e558485",
          "locked": true,
          "schema_version": 3,
          "solution": false
        },
        "id": "tF-jTr0ofpDh"
      },
      "source": [
        "## Part 1: Compute a profile - 10 points\n",
        "\n",
        "Given a multiple sequence alignment, we must compute its profile representation. Recall that a profile for a multiple sequence alignment of length $l$ in an alphabet $\\Sigma$ is a $(|\\Sigma| + 1) \\times l$ matrix, where $p_{i,j}$ is the frequency of the $i^{th}$ letter in the $j^{th}$ position of the alignment.\n",
        "\n",
        "Complete the `compute_profile` function defined below which takes a multiple sequence alignment and an alphabet and returns its profile representation."
      ]
    },
    {
      "cell_type": "code",
      "metadata": {
        "deletable": false,
        "nbgrader": {
          "cell_type": "code",
          "checksum": "e5025f9921fb90fa762204f977f97eb1",
          "grade": false,
          "grade_id": "cell-494cc3ef90b63ab3",
          "locked": false,
          "schema_version": 3,
          "solution": true
        },
        "id": "z3r03yVPfpDi"
      },
      "source": [
        "def compute_profile(alignment, alphabet):\n",
        "    \"\"\"\n",
        "    Given an alphabet an a multiple sequence alignment in that alphabet,\n",
        "    computes and returns its profile representation\n",
        "\n",
        "    :param: alignment is a list of lists of characters in the alphabet\n",
        "    :param: alphabet is a list of characters in the alphabet from which the strings are\n",
        "            constructed\n",
        "    :return: a dictionary where dict[x][i] is the frequency of the character\n",
        "             x in the i-th position of the alignment.\n",
        "    \"\"\"\n",
        "\n",
        "    if not alignment:\n",
        "        return {}\n",
        "\n",
        "    n = len(alignment)\n",
        "    l = len(alignment[0])\n",
        "\n",
        "    #Initialize to alphabet: https://docs.python.org/3/tutorial/datastructures.html - Check how to make lists in dic\"\n",
        "\n",
        "    profile = {}\n",
        "\n",
        "    for char in alphabet:\n",
        "        profile[char] = [0] * l\n",
        "\n",
        "    for x in alignment:\n",
        "      for i in range(l):\n",
        "        char = x[i]\n",
        "        if char in profile:\n",
        "          profile[char][i] += 1\n",
        "\n",
        "    for char in profile:\n",
        "      profile[char] = [x / n for x in profile[char]]\n",
        "\n",
        "\n",
        "    return profile"
      ],
      "execution_count": 43,
      "outputs": []
    },
    {
      "cell_type": "code",
      "metadata": {
        "id": "gFBl1YShfpDj"
      },
      "source": [
        "### Student tests (You may add more)\n",
        "alphabet = ['A', 'C', 'G', 'T', '-']\n",
        "\n",
        "# Test case 1\n",
        "test1_aln = ['A', 'T', 'C', 'G']\n",
        "test1_soln = {'-': [0.0], 'A': [0.25], 'C': [0.25], 'G': [0.25], 'T': [0.25]}\n",
        "\n",
        "# Test case 2\n",
        "test2_aln = ['-T', 'GT', 'G-','AT', 'GC']\n",
        "test2_soln = {'-': [0.2, 0.2], 'A': [0.2, 0.0], 'C': [0.0, 0.2], 'G': [0.6, 0.0],'T': [0.0, 0.6]}\n",
        "\n",
        "assert_dict_almost_equal(compute_profile(test1_aln, alphabet),test1_soln)\n",
        "assert_dict_almost_equal(compute_profile(test2_aln, alphabet),test2_soln)"
      ],
      "execution_count": 44,
      "outputs": []
    },
    {
      "cell_type": "markdown",
      "metadata": {
        "id": "DNl6i5rnfpDl"
      },
      "source": [
        "## Part 2: Alignment with profiles - 10 points\n",
        "\n",
        "In order to do progressive alignment, we need to be able to align a sequence with an existing multiple sequence alignment, as well as be able to align two multiple alignments. To do this, we represent the multiple alignment as a profile, and align the single sequence against the profile or align two profiles.\n",
        "\n",
        "Recall from HW1 that we wrote functions to align two sequences. This function took a scoring function as an argument to aid in the comparison of various alignments. Similarly, we need a scoring function $\\mathbf{\\tau}$ that scores the alignment a character in our alphabet to a column of the profile.\n",
        "\n",
        "Complete the function `compute_tau` which takes a profile, a scoring function, and an alphabet, and returns the scoring function tau."
      ]
    },
    {
      "cell_type": "code",
      "metadata": {
        "deletable": false,
        "nbgrader": {
          "cell_type": "code",
          "checksum": "b96bc9a2f697569f6857ee292cee0d7e",
          "grade": false,
          "grade_id": "cell-2bd5ba8b0ed9daa5",
          "locked": false,
          "schema_version": 3,
          "solution": true
        },
        "id": "N1cVZ983fpDl"
      },
      "source": [
        "def compute_tau(profile, alphabet, delta):\n",
        "    \"\"\"\n",
        "    Given a profile, an alphabet and a scoring function for that alphabet,\n",
        "    returns the scoring function for aligning a character in the alphabet\n",
        "    to a column in the profile\n",
        "\n",
        "    :param: profile is the profile representation of the multiple sequence\n",
        "            we are aligning against\n",
        "    :param: alphabet is the alphabet of characters that compose our sequences\n",
        "    :param: delta is the scoring function between characters in our alphabet\n",
        "\n",
        "    :return: The scoring function tau such that tau[x][i] is the score for aligning\n",
        "             character x with column i of the profile.\n",
        "    \"\"\"\n",
        "    tau = {}\n",
        "\n",
        "    #Check length for python\"\n",
        "\n",
        "    for char in alphabet:\n",
        "      tau[char] = [0] * len(profile[char])\n",
        "\n",
        "      #Combines Everything - score last row see dleta - length no broken out\"\n",
        "\n",
        "      for i in range(len(profile[char])):\n",
        "        for j in range(len(alphabet)):\n",
        "          tau[char][i] += profile[alphabet[j]][i] * delta[char][alphabet[j]]\n",
        "\n",
        "    return tau"
      ],
      "execution_count": 45,
      "outputs": []
    },
    {
      "cell_type": "code",
      "metadata": {
        "id": "MzScD1myfpDl"
      },
      "source": [
        "### Student tests (You may edit these)\n",
        "alphabet = ['A', 'C', 'G', 'T', '-']\n",
        "delta = {}\n",
        "for i in range(len(alphabet)):\n",
        "    delta[alphabet[i]] = {k : v for (k,v)\n",
        "                          in zip(alphabet, [1 if alphabet[i] == alphabet[j]  else -1\n",
        "                                  for j in range(len(alphabet))]\n",
        "                         )}\n",
        "\n",
        "# Test case 1\n",
        "test1_aln = ['A', 'T', 'C', 'G']\n",
        "test1_profile = compute_profile(test1_aln, alphabet)\n",
        "test1_soln = {'-': [-1.0], 'A': [-0.5], 'C': [-0.5], 'G': [-0.5], 'T': [-0.5]}\n",
        "\n",
        "# Test case 2\n",
        "test2_aln = ['-T', 'GT', 'G-','AT', 'GC']\n",
        "test2_profile = compute_profile(test2_aln, alphabet)\n",
        "test2_soln = {'-': [-0.6, -0.6],\n",
        "              'A': [-0.6, -1.0],\n",
        "              'C': [-1.0, -0.6],\n",
        "              'G': [0.2, -1.0],\n",
        "              'T': [-1.0, 0.2]}\n",
        "\n",
        "assert_dict_almost_equal(compute_tau(test1_profile, alphabet, delta),test1_soln)\n",
        "assert_dict_almost_equal(compute_tau(test2_profile, alphabet, delta),test2_soln)"
      ],
      "execution_count": 7,
      "outputs": []
    },
    {
      "cell_type": "markdown",
      "metadata": {
        "deletable": false,
        "editable": false,
        "nbgrader": {
          "cell_type": "markdown",
          "checksum": "bbdbd8eed47204d0fd4287d007962d42",
          "grade": false,
          "grade_id": "cell-656e07de91550069",
          "locked": true,
          "schema_version": 3,
          "solution": false
        },
        "id": "EiD5fIZifpDn"
      },
      "source": [
        "Below is the function that aligns a sequence to a profile using the above functions.\n",
        "\n",
        "`align_sequence_profile` takes a multiple sequence alignment, a new sequence, an alphabet, and a scoring function, and returns the progressively aligned multiple sequence alignment. ** This function is implemented for you. **\n",
        "\n",
        "Just like in HW1, we will need to not only keep track of optimal alignment scores in a DP table,  but also keep track of the alignments themselves with back pointers.\n",
        "\n",
        "**Note : You do not need to write any code for this function**"
      ]
    },
    {
      "cell_type": "code",
      "metadata": {
        "deletable": false,
        "editable": false,
        "nbgrader": {
          "cell_type": "code",
          "checksum": "8bb2eee05f99751b979864ffd050bc9d",
          "grade": false,
          "grade_id": "cell-e7325fb3849b13da",
          "locked": true,
          "schema_version": 3,
          "solution": false
        },
        "id": "Mvt1Rvt7fpDn"
      },
      "source": [
        "UP = (-1, 0)\n",
        "LEFT = (0, -1)\n",
        "TOPLEFT = (-1, -1)\n",
        "\n",
        "def traceback(aln1, aln2, pointers):\n",
        "    i = len(aln1[0])-1\n",
        "    j = len(aln2[0])-1\n",
        "    new_al1 = [list(v) for v in aln1]\n",
        "    new_al2 = [list(w) for w in aln2]\n",
        "    while True:\n",
        "        di, dj = pointers[i][j]\n",
        "        if (di, dj) == LEFT:\n",
        "            for seq1 in new_al1:\n",
        "                seq1.insert(i, '-')\n",
        "        if (di, dj) == UP:\n",
        "            for seq2 in new_al2:\n",
        "                seq2.insert(j, '-')\n",
        "        i, j = i + di, j + dj\n",
        "        if (i <= 0 and j <= 0):\n",
        "            break\n",
        "    new_alignment = []\n",
        "    for seq in new_al1:\n",
        "        new_alignment.append(''.join(seq))\n",
        "    for seq in new_al2:\n",
        "        new_alignment.append(''.join(seq))\n",
        "    return new_alignment\n",
        "\n",
        "\n",
        "def align_sequence_profile(alignment, sequence, alphabet, delta):\n",
        "    \"\"\"\n",
        "    This function aligns a sequence against a multiple sequence alignment\n",
        "\n",
        "    :param: alignment is the multiple sequence alignment are aligning against.\n",
        "            This is a list of list of characters\n",
        "    :param: sequence is the new sequence we are aligning to the multiple alignment.\n",
        "            This is a list of characters\n",
        "    :param: alphabet is a list of characters that could compose the sequences in\n",
        "            the alignments.\n",
        "    :param: delta is the scoring function for aligning characters in our alphabet.\n",
        "            delta[x][y] is the score for aligning the characters x and y.\n",
        "\n",
        "\n",
        "    :return: a list of lists of characters in the alphabet, representing the\n",
        "             new multiple sequence alignment\n",
        "    \"\"\"\n",
        "    # Base case when there is an empty multiple alignment\n",
        "    if not alignment:\n",
        "        return [sequence]\n",
        "    M = [[0 for _ in range(len(alignment[0]))] for _ in range(len(sequence))]\n",
        "    pointers = [[(0,0) for _ in range(len(alignment[0]))] for _ in range(len(sequence))]\n",
        "    score = None\n",
        "\n",
        "    profile = compute_profile(alignment, alphabet)\n",
        "    tau = compute_tau(profile, alphabet, delta)\n",
        "\n",
        "    for i in range(len(sequence)):\n",
        "        for j in range(len(alignment[0])):\n",
        "            if i == 0 and j == 0:\n",
        "                M[i][j] = 0\n",
        "            elif i == 0:\n",
        "                M[i][j] = M[i][j-1] + tau['-'][j-1]\n",
        "                pointers[i][j] = LEFT\n",
        "            elif j == 0:\n",
        "                sequence[i-1]\n",
        "                M[i][j] = M[i-1][j] + delta[sequence[i-1]]['-']\n",
        "                pointers[i][j] = UP\n",
        "            else:\n",
        "                best_sub = max([(LEFT, M[i][j-1] + tau['-'][j-1]),\n",
        "                               (UP, M[i-1][j] + delta[sequence[i-1]]['-']),\n",
        "                               (TOPLEFT, M[i-1][j-1] + tau[sequence[i-1]][j-1])], key = lambda x: x[1])\n",
        "                pointers[i][j] = best_sub[0]\n",
        "                M[i][j] = best_sub[1]\n",
        "\n",
        "    score = M[-1][-1]\n",
        "    return score, traceback([sequence], alignment, pointers)"
      ],
      "execution_count": 46,
      "outputs": []
    },
    {
      "cell_type": "markdown",
      "metadata": {
        "deletable": false,
        "editable": false,
        "nbgrader": {
          "cell_type": "markdown",
          "checksum": "a8d37819d0f569473da013055080d959",
          "grade": false,
          "grade_id": "cell-e527ab661ceb1e1d",
          "locked": true,
          "schema_version": 3,
          "solution": false
        },
        "id": "ar1bA63KfpDn"
      },
      "source": [
        "## Part 3: Align profile to profile - 20 points\n",
        "\n",
        "\n",
        "Now using the given example, let's write the function `align_profile_profile` which takes two multiple sequence alignments, an alphabet and the scoring function for that alphabet, and returns their optimal alignment score as well as the optimal alignment. This function is a bit more complicated than aligning a sequence to a profile. This is because we need 4 separate scoring functions.\n",
        "\n",
        "Given a profile $p$ for the first alignment, and a profile $q$ representing the second, and alphabet $\\Sigma$:\n",
        "\n",
        "* $\\delta(x,y)$ gives us the score for aligning character $x$ and character $y$.\n",
        "* $\\tau_1(x,i)$ gives us the score for aligning character $x$ at position $i$ in the first profile $p$.\n",
        "* $\\tau_2(y,j)$ gives us the score for aligning character $y$ at position $j$ in the second profile $q$.\n",
        "* $\\sigma(i,j)$ gives us the score for aligning the $i^{th}$ column of $p$ with the $j^{th}$ column of $q$.\n",
        "\n",
        "The scoring function $\\sigma$ can be computed as follows $$\\sigma(i,j) = \\underset{x\\in\\Sigma}{\\sum}\\underset{y\\in\\Sigma}{\\sum}p(x,i)q(y,j)\\delta(x,y)$$\n",
        "\n",
        "Once we have $\\sigma$, we can use it to come up with a recurrence for aligning two profiles. If $S[i,j]$ is the score for first $i$ columns of profile $p$ with the first $j$ columns of profile $j$, then we have:\n",
        "\n",
        "$$S[i,j] = max \\begin{cases}\n",
        "0 & \\text{$i=0$ and $j=0$}\\\\\n",
        "S[i-1,j] + \\tau_1(-,i),& i \\gt 0\\\\\n",
        "S[i,j-1] + \\tau_2(-,j),& j \\gt 0\\\\\n",
        "S[i-1,j-1] + \\sigma(i,j),& \\text{$i\\gt0$ and $j\\gt0$}\\\\\n",
        "\\end{cases}$$\n",
        "\n",
        "Given the recurrence, complete the following parts:\n",
        "* Finish the `compute_sigma` function which computes the scoring function for aligning columns of profile.\n",
        "* Complete the `align_profile_profile` function below using the given recurrence.\n",
        "\n",
        "For tie breaking in `align_profile_profile`, please follow the priority defined in `align_sequence_profile` (the given function): (LEFT, UP, TOPLEFT)."
      ]
    },
    {
      "cell_type": "code",
      "metadata": {
        "deletable": false,
        "nbgrader": {
          "cell_type": "code",
          "checksum": "d4f9a4854317838d99495e9814f181bd",
          "grade": false,
          "grade_id": "cell-b25217b137d7e2f8",
          "locked": false,
          "schema_version": 3,
          "solution": true
        },
        "id": "q4dswqUCfpDo"
      },
      "source": [
        "def compute_sigma(p,q,alphabet, delta):\n",
        "    \"\"\"\n",
        "    :param: p is the profile for the first multiple alignment\n",
        "    :param: q is the profile for the second multiple alignment\n",
        "    :param: alphabet is the list of all characters in our sequences\n",
        "    :param: delta is the scoring function for aligning characters in our alphabet\n",
        "\n",
        "    :returns: a list of lists sigma such that sigma[i][j] is the score for aligning column\n",
        "              i of p with column j of q\n",
        "    \"\"\"\n",
        "    sigma = []\n",
        "\n",
        "    size_p = len(p[alphabet[0]])\n",
        "    size_q = len(q[alphabet[0]])\n",
        "\n",
        "\n",
        "    #list of lists [] [] columns\n",
        "    sigma = [[0 for _ in range(size_q)] for _ in range(size_p)]\n",
        "\n",
        "    for i in range(size_p):\n",
        "      for j in range(size_q):\n",
        "        for x in alphabet:\n",
        "          for y in alphabet:\n",
        "            sigma[i][j] += p[x][i] * q[y][j] * delta[x][y]\n",
        "\n",
        "\n",
        "    return sigma"
      ],
      "execution_count": 48,
      "outputs": []
    },
    {
      "cell_type": "code",
      "metadata": {
        "id": "MAwoZNvMfpDo"
      },
      "source": [
        "### Student tests (You may edit these)\n",
        "alphabet = ['A', 'C', 'G', 'T', '-']\n",
        "delta = {}\n",
        "for i in range(len(alphabet)):\n",
        "    delta[alphabet[i]] = {k : v for (k,v)\n",
        "                          in zip(alphabet, [1 if alphabet[i] == alphabet[j]  else -1\n",
        "                                  for j in range(len(alphabet))]\n",
        "                         )}\n",
        "\n",
        "# Test case 1\n",
        "test1_aln1 = ['ATG', 'TAC', 'C-C', 'G-T']\n",
        "test1_aln2 = ['G-A', 'T-C']\n",
        "test1_profile1 = compute_profile(test1_aln1, alphabet)\n",
        "test1_profile2 = compute_profile(test1_aln2, alphabet)\n",
        "test1_soln = [[-0.5, -1.0, -0.5], [-0.75, 0.0, -0.75], [-0.5, -1.0, -0.5]]\n",
        "\n",
        "nt.assert_almost_equal(compute_sigma(test1_profile1, test1_profile2, alphabet, delta),test1_soln)"
      ],
      "execution_count": 49,
      "outputs": []
    },
    {
      "cell_type": "code",
      "metadata": {
        "deletable": false,
        "nbgrader": {
          "cell_type": "code",
          "checksum": "5922efead959d8126be397e1b6222c5f",
          "grade": false,
          "grade_id": "cell-43697a5889361848",
          "locked": false,
          "schema_version": 3,
          "solution": true
        },
        "id": "Cs9lGsa4fpDp"
      },
      "source": [
        "UP = (-1, 0)\n",
        "LEFT = (0, -1)\n",
        "TOPLEFT = (-1, -1)\n",
        "\n",
        "def traceback(aln1, aln2, pointers):\n",
        "    i = len(aln1[0])\n",
        "    j = len(aln2[0])\n",
        "    new_al1 = [list(v) for v in aln1]\n",
        "    new_al2 = [list(w) for w in aln2]\n",
        "    while True:\n",
        "        di, dj = pointers[i][j]\n",
        "        if (di, dj) == LEFT:\n",
        "            for seq1 in new_al1:\n",
        "                seq1.insert(i, '-')\n",
        "        if (di, dj) == UP:\n",
        "            for seq2 in new_al2:\n",
        "                seq2.insert(j, '-')\n",
        "        i, j = i + di, j + dj\n",
        "        if (i <= 0 and j <= 0):\n",
        "            break\n",
        "    new_alignment = []\n",
        "    for seq in new_al1:\n",
        "        new_alignment.append(''.join(seq))\n",
        "    for seq in new_al2:\n",
        "        new_alignment.append(''.join(seq))\n",
        "    return new_alignment\n",
        "\n",
        "def align_profile_profile(aln1, aln2, alphabet, delta):\n",
        "    \"\"\"\n",
        "    :param: aln1 is a list of lists representing the first multiple alignment\n",
        "    :param: aln2 is a list of lists representing the second multiple alignment\n",
        "    :param: alphabet is the alphabet from which the sequences are derived\n",
        "    :param: delta is a scoring function. delta(x,y) gives us the score for aligning\n",
        "            character x with character y in our alphabet\n",
        "\n",
        "    :returns: the optimal score and the optimal multiple alignment for the two input alignments.\n",
        "    \"\"\"\n",
        "    # Base case when there is an empty multiple alignment\n",
        "    if not aln1 and not aln2:\n",
        "        return []\n",
        "    elif not aln2:\n",
        "        return aln1\n",
        "    elif not aln1:\n",
        "        return aln2\n",
        "\n",
        "    S = [[0 for j in range(len(aln2[0])+1)] for i in range(len(aln1[0])+1)]\n",
        "    pointers = [[(0,0) for j in range(len(aln2[0])+1)] for i in range(len(aln1[0])+1)]\n",
        "    score = None\n",
        "\n",
        "    # Compute profiles and scoring functions here\n",
        "    p = compute_profile(aln1, alphabet)\n",
        "    q = compute_profile(aln2, alphabet)\n",
        "    tau1 = compute_tau(p, alphabet, delta)\n",
        "    tau2 = compute_tau(q, alphabet, delta)\n",
        "    sigma = compute_sigma(p,q,alphabet, delta)\n",
        "\n",
        "    #Fails on setting S for i and j to 0 - Test times out - range issue?\"\n",
        "    #code from profile-sequence align\n",
        "    #needs to handle gaops no idea - threw in delta function - Not alphabet use alignments\n",
        "    for i in range(1, len(aln1[0]) + 1):\n",
        "        S[i][0] = S[i - 1][0] + tau1['-'][i - 1]\n",
        "        pointers[i][0] = UP\n",
        "    for j in range(1, len(aln2[0]) + 1):\n",
        "        S[0][j] = S[0][j - 1] + tau2['-'][j - 1]\n",
        "        pointers[0][j] = LEFT\n",
        "    #when call delta check line in first for loop\n",
        "    for i in range(1, len(aln1[0]) + 1):\n",
        "      for j in range(1, len(aln2[0]) + 1):\n",
        "        up1 = S[i-1][j] + delta[(aln1[0])[i-1]]['-']\n",
        "        down1 = S[i][j-1] + delta['-'][(aln2[0])[j-1]]\n",
        "        diag1 = S[i-1][j-1] + sigma[i-1][j-1]\n",
        "\n",
        "\n",
        "        S[i][j] = max(up1, down1, diag1)\n",
        "\n",
        "        #Walk trhough poitners, works\n",
        "        #See order tiebrekaer\n",
        "        if S[i][j] == down1:\n",
        "          pointers[i][j] = LEFT\n",
        "        elif S[i][j] == up1:\n",
        "          pointers[i][j] = UP\n",
        "        else:\n",
        "          pointers[i][j] = TOPLEFT\n",
        "\n",
        "    score = S[-1][-1]\n",
        "    return score, traceback(aln1, aln2, pointers)\n"
      ],
      "execution_count": 87,
      "outputs": []
    },
    {
      "cell_type": "code",
      "metadata": {
        "id": "Xvn3KP5GfpDp"
      },
      "source": [
        "### Student tests (You may edit these)\n",
        "alphabet = ['A', 'C', 'G', 'T', '-']\n",
        "delta = {}\n",
        "for i in range(len(alphabet)):\n",
        "    delta[alphabet[i]] = {k : v for (k,v)\n",
        "                          in zip(alphabet, [1 if alphabet[i] == alphabet[j]  else -1\n",
        "                                  for j in range(len(alphabet))]\n",
        "                         )}\n",
        "\n",
        "# Test cases\n",
        "nt.assert_almost_equal(align_profile_profile(['GTAGTAC'], ['TGTCAGC'], alphabet, delta),(1.0, ['GTAGT-A-C', '-T-GTCAGC']))"
      ],
      "execution_count": 88,
      "outputs": []
    },
    {
      "cell_type": "markdown",
      "metadata": {
        "id": "t6BY8ouMfpDp"
      },
      "source": [
        "# Part 4: Greedy Progressive Alignment - 5 points\n",
        "\n",
        "We will put all the pieces together into the function `greedy_progressive_align`. This function will take a list of sequences, an alphabet, and a scoring function $\\delta$ which scores the alignment for characters in our alphabet.\n",
        "\n",
        "We now state two important facts:\n",
        "* A sequence is simply a multiple sequence alignment of length 1\n",
        "* A sequence can also be represented as a profile. What is the implication of this?\n",
        "\n",
        "Let's go over the algorithm in a little more detail.\n",
        "\n",
        "Given a labelled or indexed list of sequences, an alphabet and a scoring function $\\delta$,\n",
        "\n",
        "1. First compute the score of pairwise alignment of all alignments in your list of sequences\n",
        "2. Now pick the maximum scoring alignment of alignments and combine it\n",
        "3. Repeat steps 1 and 2 until there is only 1 alignment in your input list\n",
        "\n",
        "Some of the function has been completed for you. You only need compute pairwise alignment scores, and keep track of the best score."
      ]
    },
    {
      "cell_type": "code",
      "metadata": {
        "deletable": false,
        "nbgrader": {
          "cell_type": "code",
          "checksum": "374de5d5aa6930e61b214ac081e2b756",
          "grade": false,
          "grade_id": "cell-5bb8be62f15d2d5e",
          "locked": false,
          "schema_version": 3,
          "solution": true
        },
        "id": "fDkQ1cF7fpDq"
      },
      "source": [
        "def greedy_progressive_align(alignments, alphabet, delta):\n",
        "    \"\"\"\n",
        "    :param: alignments is a list of list of strings representing the sequences to be aligned\n",
        "            Note: This is because we need to represent our single sequences as multiple alignments\n",
        "            ,and multiple alignments are lists of strings\n",
        "    :param: alphabet is the alphabet from which the sequences are derived\n",
        "    :param: delta is a scoring function. delta(x,y) gives us the score for aligning\n",
        "            character x with character y in our alphabet\n",
        "\n",
        "    :returns: the greedy optimal multiple sequence alignment for a given set of sequences, and the score for that alignment\n",
        "    \"\"\"\n",
        "\n",
        "\n",
        "    while True:\n",
        "        if len(alignments) <= 1:\n",
        "            break\n",
        "\n",
        "        # Data structures for this iteration\n",
        "        best_score = -float(\"inf\")\n",
        "        best_alignment = None\n",
        "        best_m = -1\n",
        "        best_n = -1\n",
        "\n",
        "        # Compute pairwise distances\n",
        "        for m in range(len(alignments)):\n",
        "            for n in range(m):\n",
        "              if align_profile_profile([alignments[m]], [alignments[n]], alphabet, delta) is None:\n",
        "                continue\n",
        "\n",
        "\n",
        "              score, alignment = align_profile_profile([alignments[m]], [alignments[n]], alphabet, delta)\n",
        "              if score > best_score:\n",
        "                best_score = score\n",
        "                best_alignment = alignment\n",
        "                best_m = m\n",
        "                best_n = n\n",
        "\n",
        "        # Populate the list of alignments to use for the next iteration\n",
        "        next_alignments = [best_alignment]\n",
        "        for i in range(len(alignments)):\n",
        "            if i!=best_m and i!=best_n:\n",
        "                next_alignments.append(alignments[i])\n",
        "        alignments = next_alignments\n",
        "\n",
        "    return best_score, alignments[0]\n",
        "\n"
      ],
      "execution_count": 89,
      "outputs": []
    },
    {
      "cell_type": "code",
      "metadata": {
        "id": "tAd-_PzNfpDq",
        "colab": {
          "base_uri": "https://localhost:8080/",
          "height": 332
        },
        "outputId": "2f74ea51-882e-4ca7-b4de-916a0c2c9231"
      },
      "source": [
        "# Student test case (You may add more)\n",
        "\n",
        "alphabet = ['A', 'C', 'G', 'T', '-']\n",
        "delta = {}\n",
        "for i in range(len(alphabet)):\n",
        "    delta[alphabet[i]] = {k : v for (k,v)\n",
        "                          in zip(alphabet, [1 if alphabet[i] == alphabet[j]  else -1\n",
        "                                  for j in range(len(alphabet))]\n",
        "                         )}\n",
        "# Test case\n",
        "test1_seqs = [['A'],['C'],['T'],['G']]\n",
        "nt.assert_almost_equal(greedy_progressive_align(test1_seqs, alphabet, delta),\n",
        "             (-1,['G', 'T', 'C', 'A']))"
      ],
      "execution_count": 91,
      "outputs": [
        {
          "output_type": "error",
          "ename": "TypeError",
          "evalue": "unsupported operand type(s) for -: 'tuple' and 'tuple'",
          "traceback": [
            "\u001b[0;31m---------------------------------------------------------------------------\u001b[0m",
            "\u001b[0;31mTypeError\u001b[0m                                 Traceback (most recent call last)",
            "\u001b[0;32m<ipython-input-91-a47a92493c41>\u001b[0m in \u001b[0;36m<cell line: 12>\u001b[0;34m()\u001b[0m\n\u001b[1;32m     10\u001b[0m \u001b[0;31m# Test case\u001b[0m\u001b[0;34m\u001b[0m\u001b[0;34m\u001b[0m\u001b[0m\n\u001b[1;32m     11\u001b[0m \u001b[0mtest1_seqs\u001b[0m \u001b[0;34m=\u001b[0m \u001b[0;34m[\u001b[0m\u001b[0;34m[\u001b[0m\u001b[0;34m'A'\u001b[0m\u001b[0;34m]\u001b[0m\u001b[0;34m,\u001b[0m\u001b[0;34m[\u001b[0m\u001b[0;34m'C'\u001b[0m\u001b[0;34m]\u001b[0m\u001b[0;34m,\u001b[0m\u001b[0;34m[\u001b[0m\u001b[0;34m'T'\u001b[0m\u001b[0;34m]\u001b[0m\u001b[0;34m,\u001b[0m\u001b[0;34m[\u001b[0m\u001b[0;34m'G'\u001b[0m\u001b[0;34m]\u001b[0m\u001b[0;34m]\u001b[0m\u001b[0;34m\u001b[0m\u001b[0;34m\u001b[0m\u001b[0m\n\u001b[0;32m---> 12\u001b[0;31m nt.assert_almost_equal(greedy_progressive_align(test1_seqs, alphabet, delta),\n\u001b[0m\u001b[1;32m     13\u001b[0m              (-1,['G', 'T', 'C', 'A']))\n",
            "\u001b[0;32m/usr/lib/python3.10/unittest/case.py\u001b[0m in \u001b[0;36massertAlmostEqual\u001b[0;34m(self, first, second, places, msg, delta)\u001b[0m\n\u001b[1;32m    874\u001b[0m             \u001b[0;32mraise\u001b[0m \u001b[0mTypeError\u001b[0m\u001b[0;34m(\u001b[0m\u001b[0;34m\"specify delta or places not both\"\u001b[0m\u001b[0;34m)\u001b[0m\u001b[0;34m\u001b[0m\u001b[0;34m\u001b[0m\u001b[0m\n\u001b[1;32m    875\u001b[0m \u001b[0;34m\u001b[0m\u001b[0m\n\u001b[0;32m--> 876\u001b[0;31m         \u001b[0mdiff\u001b[0m \u001b[0;34m=\u001b[0m \u001b[0mabs\u001b[0m\u001b[0;34m(\u001b[0m\u001b[0mfirst\u001b[0m \u001b[0;34m-\u001b[0m \u001b[0msecond\u001b[0m\u001b[0;34m)\u001b[0m\u001b[0;34m\u001b[0m\u001b[0;34m\u001b[0m\u001b[0m\n\u001b[0m\u001b[1;32m    877\u001b[0m         \u001b[0;32mif\u001b[0m \u001b[0mdelta\u001b[0m \u001b[0;32mis\u001b[0m \u001b[0;32mnot\u001b[0m \u001b[0;32mNone\u001b[0m\u001b[0;34m:\u001b[0m\u001b[0;34m\u001b[0m\u001b[0;34m\u001b[0m\u001b[0m\n\u001b[1;32m    878\u001b[0m             \u001b[0;32mif\u001b[0m \u001b[0mdiff\u001b[0m \u001b[0;34m<=\u001b[0m \u001b[0mdelta\u001b[0m\u001b[0;34m:\u001b[0m\u001b[0;34m\u001b[0m\u001b[0;34m\u001b[0m\u001b[0m\n",
            "\u001b[0;31mTypeError\u001b[0m: unsupported operand type(s) for -: 'tuple' and 'tuple'"
          ]
        }
      ]
    },
    {
      "cell_type": "markdown",
      "source": [],
      "metadata": {
        "id": "we_FDF9JOMFi"
      }
    },
    {
      "cell_type": "markdown",
      "source": [
        "# Part 5: Feng-Doolittle Progressive Alignment - 5 points\n",
        "\n",
        "Finally, we will implement the function `Feng_Doolittle_progressive_align`. Like `greedy_progressive_align`, this function also will take a list of sequences, an alphabet, and a scoring function $\\delta$.\n",
        "\n",
        "\n",
        "Let's talk about Feng-Doolittle algorithm a bit.\n",
        "\n",
        "Given a labeled or indexed list of sequences, an alphabet and a scoring function $\\delta$,\n",
        "\n",
        "1. First compute the score of pairwise alignment of all pairs of sequences in your list.\n",
        "2. Create an undirected complete graph $G$ where each node is a sequence from the input list of sequences and the weight of an edge $(m,n)$ is the pairwise alignment score between $m$ and $n$.\n",
        "3. Infer the maximum spanning tree $T$ of $G$. We are doing maximum spanning tree instead of minimum because the weights represent alignment score, not distance.\n",
        "4. For each edge $(m,n)$ of $T$ in the order from highest to lowest weight, combine sequence/profile $m$ and $n$. Replace $m$ and $n$ with the new alignment profile."
      ],
      "metadata": {
        "id": "c0L74SDKOOvT"
      }
    },
    {
      "cell_type": "code",
      "source": [
        "import networkx as nx\n",
        "\n",
        "def Feng_Doolittle_progressive_align(alignments, alphabet, delta):\n",
        "    \"\"\"\n",
        "    :param: alignments is a list of list of strings representing the sequences to be aligned\n",
        "            Note: This is because we need to represent our single sequences as multiple alignments\n",
        "            ,and multiple alignments are lists of strings\n",
        "    :param: alphabet is the alphabet from which the sequences are derived\n",
        "    :param: delta is a scoring function. delta(x,y) gives us the score for aligning\n",
        "            character x with character y in our alphabet\n",
        "\n",
        "    :returns: the Feng-Doolittle optimal multiple sequence alignment for a given set of sequences, and the score for that alignment\n",
        "    \"\"\"\n",
        "    graph = nx.Graph()\n",
        "    for m in range(len(alignments)):\n",
        "        for n in range(m):\n",
        "            score = None\n",
        "            # TODO: set score to p/w alignment score of sequences indexed by m and n\n",
        "            pass\n",
        "            graph.add_edge(m, n, weight=score)\n",
        "\n",
        "    mst = nx.maximum_spanning_tree(graph, weight='weight')\n",
        "    # alignment_order is a sorted list of tuples ((m,n),score) where (m,n) is an edge and score is the score of the p/w alignment of m and n\n",
        "    alignment_order = sorted([(e, graph.edges[e]['weight']) for e in mst.edges], key=lambda x: x[1], reverse=True)\n",
        "\n",
        "    score, new_aln = 0, ''\n",
        "    # TODO: iteratively perform profile-to-profile alignment following the order\n",
        "    #       specified in alignment_order, store the score and final MSA in score, new_aln. resp.\n",
        "    pass\n",
        "\n",
        "    return score, new_aln"
      ],
      "metadata": {
        "id": "y8A21JykOSRo"
      },
      "execution_count": null,
      "outputs": []
    },
    {
      "cell_type": "code",
      "source": [
        "# Student test case (You may add more)\n",
        "\n",
        "alphabet = ['A', 'C', 'G', 'T', '-']\n",
        "delta = {}\n",
        "for i in range(len(alphabet)):\n",
        "    delta[alphabet[i]] = {k : v for (k,v)\n",
        "                          in zip(alphabet, [1 if alphabet[i] == alphabet[j]  else -1\n",
        "                                  for j in range(len(alphabet))]\n",
        "                         )}\n",
        "# Test case\n",
        "test1_seqs = [['A'],['C'],['T'],['G']]\n",
        "solution = Feng_Doolittle_progressive_align(test1_seqs, alphabet, delta)\n",
        "nt.assert_almost_equal(solution[0], -1)\n",
        "nt.assert_equal(set(solution[1]), set(['G', 'T', 'C', 'A']))"
      ],
      "metadata": {
        "id": "HMpHIe7HOj99"
      },
      "execution_count": null,
      "outputs": []
    }
  ]
}